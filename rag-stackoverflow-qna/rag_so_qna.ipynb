{
 "cells": [
  {
   "cell_type": "markdown",
   "metadata": {},
   "source": [
    "# StackOverflow Q&A\n",
    "\n",
    "Based on the genAI stack [application example](https://github.com/docker/genai-stack/blob/main/bot.py)."
   ]
  },
  {
   "cell_type": "code",
   "execution_count": 68,
   "metadata": {},
   "outputs": [],
   "source": [
    "from langchain.chat_models import ChatOpenAI\n",
    "from langchain.prompts.chat import ChatPromptTemplate, SystemMessagePromptTemplate, HumanMessagePromptTemplate"
   ]
  },
  {
   "cell_type": "markdown",
   "metadata": {},
   "source": [
    "## LLM-only chain"
   ]
  },
  {
   "cell_type": "code",
   "execution_count": 69,
   "metadata": {},
   "outputs": [],
   "source": [
    "llm = ChatOpenAI(model_name='gpt-4', temperature=0)"
   ]
  },
  {
   "cell_type": "code",
   "execution_count": 70,
   "metadata": {},
   "outputs": [],
   "source": [
    "template = \"\"\"\n",
    "    You are a helpful assistant that helps a support agent with answering programming questions.\n",
    "    If you don't know the answer, just say that you don't know, you must not make up an answer.\n",
    " \"\"\""
   ]
  },
  {
   "cell_type": "code",
   "execution_count": 71,
   "metadata": {},
   "outputs": [],
   "source": [
    "system_message_prompt = SystemMessagePromptTemplate.from_template(template=template)"
   ]
  },
  {
   "cell_type": "code",
   "execution_count": 72,
   "metadata": {},
   "outputs": [],
   "source": [
    "human_template = '{question}'"
   ]
  },
  {
   "cell_type": "code",
   "execution_count": 73,
   "metadata": {},
   "outputs": [],
   "source": [
    "human_message_prompt = HumanMessagePromptTemplate.from_template(template=human_template)"
   ]
  },
  {
   "cell_type": "code",
   "execution_count": 74,
   "metadata": {},
   "outputs": [],
   "source": [
    "chat_prompt = ChatPromptTemplate.from_messages(\n",
    "    [system_message_prompt, human_message_prompt]\n",
    ")"
   ]
  },
  {
   "cell_type": "code",
   "execution_count": 75,
   "metadata": {},
   "outputs": [],
   "source": [
    "question = \"How to get property names with count of non-null value for a given node label in Neo4j?\""
   ]
  },
  {
   "cell_type": "code",
   "execution_count": 76,
   "metadata": {},
   "outputs": [
    {
     "name": "stderr",
     "output_type": "stream",
     "text": [
      "huggingface/tokenizers: The current process just got forked, after parallelism has already been used. Disabling parallelism to avoid deadlocks...\n",
      "To disable this warning, you can either:\n",
      "\t- Avoid using `tokenizers` before the fork if possible\n",
      "\t- Explicitly set the environment variable TOKENIZERS_PARALLELISM=(true | false)\n"
     ]
    }
   ],
   "source": [
    "final_prompt = chat_prompt.format_prompt(\n",
    "    question=question\n",
    ").to_messages()\n",
    "\n",
    "completion = llm(final_prompt)"
   ]
  },
  {
   "cell_type": "code",
   "execution_count": 77,
   "metadata": {},
   "outputs": [
    {
     "name": "stdout",
     "output_type": "stream",
     "text": [
      "To get property names with count of non-null values for a given node label in Neo4j, you can use the APOC procedure `apoc.meta.nodeTypeProperties()`. This procedure returns the metadata of the node type properties including the count of non-null values.\n",
      "\n",
      "Here is an example:\n",
      "\n",
      "```cypher\n",
      "CALL apoc.meta.nodeTypeProperties({labels:['YourLabel']})\n",
      "YIELD propertyName, propertyTypes, mandatory, count\n",
      "RETURN propertyName, count\n",
      "```\n",
      "\n",
      "In this query, replace `'YourLabel'` with the label of your node. This will return the property names and the count of non-null values for each property of nodes with the given label.\n",
      "\n",
      "Please note that you need to have the APOC plugin installed in your Neo4j instance to use this procedure.\n"
     ]
    }
   ],
   "source": [
    "print(completion.content)"
   ]
  },
  {
   "cell_type": "markdown",
   "metadata": {},
   "source": []
  },
  {
   "cell_type": "markdown",
   "metadata": {},
   "source": [
    "## RAG chain"
   ]
  },
  {
   "cell_type": "code",
   "execution_count": 78,
   "metadata": {},
   "outputs": [],
   "source": [
    "from langchain.embeddings.huggingface import HuggingFaceEmbeddings\n",
    "from langchain.chains.qa_with_sources import load_qa_with_sources_chain\n",
    "from langchain.chains.qa_with_sources.retrieval import RetrievalQAWithSourcesChain\n",
    "from langchain.vectorstores.neo4j_vector import Neo4jVector\n"
   ]
  },
  {
   "cell_type": "code",
   "execution_count": 79,
   "metadata": {},
   "outputs": [],
   "source": [
    "general_system_template = \"\"\" \n",
    "    Use the following pieces of context to answer the question at the end.\n",
    "    The context contains question-answer pairs and their links from Stackoverflow.\n",
    "    You should prefer information from accepted or more upvoted answers.\n",
    "    Make sure to rely on information from the answers and not on questions to provide accuate responses.\n",
    "    When you find particular answer in the context useful, make sure to cite it in the answer using the link.\n",
    "    If you don't know the answer, just say that you don't know, don't try to make up an answer.\n",
    "    ----\n",
    "    {summaries}\n",
    "    ----\n",
    "    Each answer you generate should contain a section at the end of links to \n",
    "    Stackoverflow questions and answers you found useful, which are described under Source value.\n",
    "    You can only use links to StackOverflow questions that are present in the context and always\n",
    "    add links to the end of the answer in the style of citations.\n",
    "    Generate concise answers with references sources section of links to \n",
    "    relevant StackOverflow questions only at the end of the answer.\n",
    "    \"\"\""
   ]
  },
  {
   "cell_type": "code",
   "execution_count": 80,
   "metadata": {},
   "outputs": [],
   "source": [
    "general_user_template = \"Question:```{question}```\""
   ]
  },
  {
   "cell_type": "code",
   "execution_count": 81,
   "metadata": {},
   "outputs": [],
   "source": [
    "messages = [\n",
    "        SystemMessagePromptTemplate.from_template(general_system_template),\n",
    "        HumanMessagePromptTemplate.from_template(general_user_template),\n",
    "    ]"
   ]
  },
  {
   "cell_type": "code",
   "execution_count": 82,
   "metadata": {},
   "outputs": [],
   "source": [
    "qa_prompt = ChatPromptTemplate.from_messages(messages)"
   ]
  },
  {
   "cell_type": "code",
   "execution_count": 83,
   "metadata": {},
   "outputs": [],
   "source": [
    "qa_chain = load_qa_with_sources_chain(llm, chain_type='stuff', prompt=qa_prompt)"
   ]
  },
  {
   "cell_type": "markdown",
   "metadata": {},
   "source": [
    "Use existing Neo4j database"
   ]
  },
  {
   "cell_type": "code",
   "execution_count": 84,
   "metadata": {},
   "outputs": [],
   "source": [
    "neo4j_uri = 'neo4j://127.0.0.1:7687'\n",
    "username = 'neo4j'\n",
    "password = 'password'\n",
    "database = 'neo4j'\n",
    "index_name = 'stackoverflow'\n",
    "text_node_property = 'body'"
   ]
  },
  {
   "cell_type": "code",
   "execution_count": 85,
   "metadata": {},
   "outputs": [],
   "source": [
    "retrieval_query = \"\"\"\n",
    "    WITH node AS question, score AS similarity\n",
    "    CALL  { with question\n",
    "        MATCH (question)<-[:ANSWERS]-(answer)\n",
    "        WITH answer\n",
    "        ORDER BY answer.is_accepted DESC, answer.score DESC\n",
    "        WITH collect(answer)[..2] as answers\n",
    "        RETURN reduce(str='', answer IN answers | str + \n",
    "                '\\n### Answer (Accepted: '+ answer.is_accepted +\n",
    "                ' Score: ' + answer.score+ '): '+  answer.body + '\\n') as answerTexts\n",
    "    } \n",
    "    RETURN '##Question: ' + question.title + '\\n' + question.body + '\\n' \n",
    "        + answerTexts AS text, similarity as score, {source: question.link} AS metadata\n",
    "    ORDER BY similarity ASC // so that best answers are the last\n",
    "\"\"\""
   ]
  },
  {
   "cell_type": "markdown",
   "metadata": {},
   "source": [
    "Use Text Transformers embeddings model"
   ]
  },
  {
   "cell_type": "code",
   "execution_count": 86,
   "metadata": {},
   "outputs": [],
   "source": [
    "embeddings = HuggingFaceEmbeddings(\n",
    "    model_name='all-MiniLM-L6-v2',\n",
    "    cache_folder='./embedding_model/'\n",
    ")"
   ]
  },
  {
   "cell_type": "markdown",
   "metadata": {},
   "source": [
    "Vector + knowledge graph response"
   ]
  },
  {
   "cell_type": "code",
   "execution_count": 87,
   "metadata": {},
   "outputs": [],
   "source": [
    "kg = Neo4jVector.from_existing_index(\n",
    "    embedding=embeddings,\n",
    "    url=neo4j_uri,\n",
    "    username=username,\n",
    "    password=password,\n",
    "    database=database,\n",
    "    index_name=index_name,\n",
    "    text_node_property=text_node_property,\n",
    "    retrieval_query=retrieval_query\n",
    ")"
   ]
  },
  {
   "cell_type": "code",
   "execution_count": 88,
   "metadata": {},
   "outputs": [],
   "source": [
    "kg_qa = RetrievalQAWithSourcesChain(\n",
    "    combine_documents_chain=qa_chain,\n",
    "    retriever=kg.as_retriever(search_kwargs={\"k\": 2}),\n",
    "    reduce_k_below_max_tokens=False,\n",
    "    max_tokens_limit=3375,\n",
    ")"
   ]
  },
  {
   "cell_type": "code",
   "execution_count": 89,
   "metadata": {},
   "outputs": [],
   "source": [
    "result = kg_qa(\n",
    "    {\n",
    "        'question': \"How to get property names with count of non-null value for a given node label in Neo4j?\",\n",
    "        'chat_history': []\n",
    "    }\n",
    ")"
   ]
  },
  {
   "cell_type": "code",
   "execution_count": 90,
   "metadata": {},
   "outputs": [
    {
     "name": "stdout",
     "output_type": "stream",
     "text": [
      "You can get the count of non-empty properties for a given node label in Neo4j by using the `UNWIND` function to iterate over the keys of the node properties. Then, you can use a `CASE` statement to check if the property value is not empty. If it's not empty, assign a value of 1, otherwise assign a value of 0. Finally, you can sum up these values to get the count of non-empty properties. Here is an example query:\n",
      "\n",
      "```sql\n",
      "MATCH (p:Person)\n",
      "UNWIND keys(p) AS key\n",
      "WITH key, CASE WHEN p[key] <> \"\" THEN 1 ELSE 0 END AS isNonEmpty\n",
      "RETURN key, sum(isNonEmpty) AS cnt\n",
      "ORDER BY key\n",
      "```\n",
      "\n",
      "This query will return the count of non-empty properties for each key in the `Person` node. Note that Neo4j treats null properties as non-existent, so if none of the nodes returned by the `MATCH` statement has the property, those properties can't be inferred[^1^].\n",
      "\n",
      "[^1^]: (\n"
     ]
    }
   ],
   "source": [
    "print(result['answer'])"
   ]
  },
  {
   "cell_type": "markdown",
   "metadata": {},
   "source": [
    "TODO: somehow the response doesn't include the SO link."
   ]
  },
  {
   "cell_type": "code",
   "execution_count": null,
   "metadata": {},
   "outputs": [],
   "source": []
  }
 ],
 "metadata": {
  "kernelspec": {
   "display_name": "venv",
   "language": "python",
   "name": "python3"
  },
  "language_info": {
   "codemirror_mode": {
    "name": "ipython",
    "version": 3
   },
   "file_extension": ".py",
   "mimetype": "text/x-python",
   "name": "python",
   "nbconvert_exporter": "python",
   "pygments_lexer": "ipython3",
   "version": "3.11.5"
  }
 },
 "nbformat": 4,
 "nbformat_minor": 2
}
